{
 "cells": [
  {
   "cell_type": "markdown",
   "id": "4efb3b48",
   "metadata": {},
   "source": [
    "## Assignment 2"
   ]
  },
  {
   "cell_type": "markdown",
   "id": "810e1bb4",
   "metadata": {},
   "source": [
    "In this assignment, we are asking you to make estimates for what to expect when doing orbit integrations. This will rely on some of the math that we went over at the first meeting. You should be able to find those slides on the StreamTeam Google Drive, which is linked in the Slack \"General\" channel bookmarks (above all the messages).\n",
    "\n",
    "Using some of the equations that we learned about last week, we should be able to make predictions about the orbits of individual stars. This will help us understand how streams form and also give allow us to compare our code results to expectations once we start to make streams in Gala.\n",
    "\n",
    "I will guide you through writing the code for the first question and you should use the coding techniques (commenting, printing answers, keeping track of units, function writing (optional)) introduced there when finding the answers to questions 2 and 3."
   ]
  },
  {
   "cell_type": "markdown",
   "id": "9ae06ada",
   "metadata": {},
   "source": [
    "First let's import the normal packages that we always use"
   ]
  },
  {
   "cell_type": "code",
   "execution_count": 2,
   "id": "6d5fb18d",
   "metadata": {},
   "outputs": [],
   "source": [
    "import numpy as np\n",
    "import matplotlib.pyplot as plt\n",
    "%matplotlib inline\n",
    "\n",
    "# Gala (this is not strictly necessary, since this notebook doesn't use Gala, but a good habit)\n",
    "import gala\n",
    "import gala.dynamics as gd\n",
    "import gala.potential as gp"
   ]
  },
  {
   "cell_type": "markdown",
   "id": "e2c7ade3",
   "metadata": {},
   "source": [
    "#### Quick Background\n",
    "\n",
    "As we have seen, streams are made up of stars that were once either dwarf galaxies or globular clusters. We can refer to either one of these as \"satellites\" that orbit the Milky Way. On those orbits, satellite stars are *tidally stripped*, forming streams. The stars are stripped when the \"pull\" from the host galaxy is stronger than the gravitational force within the satellite itself. When that happens to a star, it will separate from its satellite and become part of a stream of stars undergoing the same fate. THe overcoming of the gravitational force of the satellite on a given star will happen at a certain radius from the center of the satellite, called the *tidal radius*. The *tidal radius* at which stars are lost from the satellite is given by the formula $$r_{tide} \\sim (\\frac{m_{sat}}{M_{gal}})^{1/3} R$$"
   ]
  },
  {
   "cell_type": "markdown",
   "id": "96ca25b9",
   "metadata": {},
   "source": [
    "#### Question 1\n",
    "\n",
    "Calculate $r_{tide}$ for two satellites, one with mass $m_{sat} = 10^5 M_{\\odot}$ and one with mass $m_{sat} = 10^9 M_{\\odot}$ orbiting a galaxy of mass $M_{gal} = 5 \\times 10^{11} M_{\\odot}$ at $R_0 = 30$ kpc"
   ]
  },
  {
   "cell_type": "code",
   "execution_count": 3,
   "id": "fdde1d4f",
   "metadata": {},
   "outputs": [
    {
     "name": "stdout",
     "output_type": "stream",
     "text": [
      "Smaller satellite r_tide = 0.175441064292772 kpc\n",
      "Larger satellite r_tide = 3.7797631496846193 kpc\n"
     ]
    }
   ],
   "source": [
    "# write code below to calculate r_tide. \n",
    "#  Call r_tide for the smaller satellite r_tide1 and r_tide for the larger one r_tide2\n",
    "msat_small = 1e5 # mass for smaller satellite\n",
    "msat_large = 1e9 # mass for larger satllite \n",
    "mgal = 5e11 # mass of central galaxy\n",
    "R = 30 # orbital radius\n",
    "\n",
    "r_tide1 = (msat_small/mgal)**(1/3) * R # Tidal Radius for smaller satellite\n",
    "r_tide2 = (msat_large/mgal)**(1/3) * R # Tidal radius for larger satellite\n",
    "\n",
    "# Quick check: What units is your answer in? \n",
    "#  You didn't need to code units into your code specifically, \n",
    "#   but you should always make sure you know what units you are working with. \n",
    "#  If it isn't already, make sure that r_tide1 and r_tide2 are in kpc, \n",
    "#   so that the two lines of output at the end of this cell are correct\n",
    "\n",
    "# End your code with these two lines to output your results:\n",
    "print('Smaller satellite r_tide = {} kpc'.format(r_tide1))\n",
    "print('Larger satellite r_tide = {} kpc'.format(r_tide2))"
   ]
  },
  {
   "cell_type": "markdown",
   "id": "d5442aa2",
   "metadata": {},
   "source": [
    "Now that you've written your code let's do a guided practice with function writing in python if you aren't familiar with it already. Try to write a function that takes in as variables the satelite mass, galaxy mass, and radius from galaxy center, and outputs the tidal radius."
   ]
  },
  {
   "cell_type": "code",
   "execution_count": 4,
   "id": "1aa89178",
   "metadata": {},
   "outputs": [],
   "source": [
    "# Here is the basic structure of your code to write functions:\n",
    "\n",
    "# Make sure to change the names of the functions and parameters to things \n",
    "#  that make sense for you and anyone reading your code\n",
    "    \n",
    "def tidal_radius(Msat, Mgal, R): \n",
    "    # use the code you've written above to go from your inputed parameters to the output\n",
    "    r_tide = (Msat/Mgal)**(1/3) * R\n",
    "\n",
    "    return r_tide # this outputs you the tidal radius for your inputed parameters"
   ]
  },
  {
   "cell_type": "markdown",
   "id": "1fd894b6",
   "metadata": {},
   "source": [
    "As a test, you should now be able to run the following cell, after changing the name of your function"
   ]
  },
  {
   "cell_type": "code",
   "execution_count": 5,
   "id": "2b250700",
   "metadata": {},
   "outputs": [
    {
     "name": "stdout",
     "output_type": "stream",
     "text": [
      "Smaller satellite r_tide = 0.175441064292772 kpc\n",
      "Larger satellite r_tide = 3.7797631496846193 kpc\n"
     ]
    }
   ],
   "source": [
    "r_tide1 = tidal_radius(10**5, 5*10**11, 30)\n",
    "r_tide2 = tidal_radius(10**9, 5*10**11, 30)\n",
    "\n",
    "print('Smaller satellite r_tide = {} kpc'.format(r_tide1))\n",
    "print('Larger satellite r_tide = {} kpc'.format(r_tide2))\n",
    "\n",
    "# this should output exactly the same thing as your initial code \n",
    "#  but it has the advantage that you can now easily try out other values for m_sat, m_gal, and R"
   ]
  },
  {
   "cell_type": "markdown",
   "id": "bcccd9d5",
   "metadata": {},
   "source": [
    "Pick one of the two satellites and use the function you just wrote to answer: What happens when to $r_{tide}$ when you decrease the radius of the satellite to 5 kpc? What if you increase it to 100 kpc?"
   ]
  },
  {
   "cell_type": "code",
   "execution_count": 6,
   "id": "03399291",
   "metadata": {},
   "outputs": [
    {
     "name": "stdout",
     "output_type": "stream",
     "text": [
      "Inner satellite r_tide = 0.029240177382128668 kpc\n",
      "Outer satellite r_tide = 0.5848035476425734 kpc\n"
     ]
    }
   ],
   "source": [
    "# Write your code below using the function you defined earlier\n",
    "r_tide_inner = tidal_radius(10**5, 5*10**11, 5)\n",
    "r_tide_outer = tidal_radius(10**5, 5*10**11, 100)\n",
    "\n",
    "print('Inner satellite r_tide = {} kpc'.format(r_tide_inner))\n",
    "print('Outer satellite r_tide = {} kpc'.format(r_tide_outer))"
   ]
  },
  {
   "cell_type": "markdown",
   "id": "e2ebef49",
   "metadata": {},
   "source": [
    "#### Question 2\n",
    "\n",
    "From the previous assignment, you should have some functions written for the Hernquist potential using the Keplerian potential used in \"Leapfrog_tutorial\" as a guide. Apply those functions for the potential, acceleration, and circular velocity to complete this question. \n",
    "\n",
    "For each satellite from the previous question, what is the difference in the orbital period $T$ for stars that end up in the trailing (at $R = R_0 + r_{tide}$) and leading (at $R = R_0 - r_{tide}$) streams? Assume that the satellites are on a circular orbit, meaning you can use one of the formulas for $T$ in the slides (or at the end of the \"Leapfrog_tutorial\" notebook).\n",
    "\n",
    "What is the difference in energy for those two galaxies? Use the formula for total energy $$E = \\frac{1}{2} v_{circ}^2 + \\Phi(R \\pm r_{tide})$$ where $\\Phi$ represents the Hernquist potential."
   ]
  },
  {
   "cell_type": "code",
   "execution_count": 7,
   "id": "175f7570",
   "metadata": {},
   "outputs": [],
   "source": [
    "# Copied funcions from last time\n",
    "def Hernquist_potential(M, x, y, c, G):\n",
    "    \"\"\"\n",
    "    Parameters\n",
    "    ----------\n",
    "    mass : float\n",
    "        mass of central body\n",
    "    x : array\n",
    "        x-postions\n",
    "    y : array\n",
    "        y-postions\n",
    "    G : float\n",
    "        Gravitational Constant  \n",
    "        \n",
    "    Returns\n",
    "    ----------\n",
    "    ax : array\n",
    "    Potential value \n",
    "    \"\"\"\n",
    "    r = np.sqrt(x**2 + y**2)\n",
    "    return (-G*M)/r+c\n",
    "\n",
    "# Calculate acceleration given position coordinates\n",
    "def Hernquist_accel(M, x, y, c, G):\n",
    "    \"\"\"\n",
    "    Parameters\n",
    "    ----------\n",
    "    mass : float\n",
    "        mass of central body\n",
    "    x : array\n",
    "        x-postions\n",
    "    y : array\n",
    "        y-postions\n",
    "    G : float\n",
    "        Gravitational Constant  \n",
    "        \n",
    "    Returns\n",
    "    ----------\n",
    "    ax : array\n",
    "        x-accelerations \n",
    "    ay : array\n",
    "        y-accelerations \n",
    "    \"\"\"\n",
    "    \n",
    "    # Little trick here -- the following line give you the Cartesian accelerations for \n",
    "    # any spherical potential\n",
    "    # Just replace dr with the derivative of the potential with respect to r (dPhi/dr)\n",
    "    r = np.sqrt(x**2 + y**2)\n",
    "    dr = (G*M)/(r+c)**2 # Derivative of potential\n",
    "    ax = -dr * (x/r)\n",
    "    ay = -dr * (y/r)\n",
    "    \n",
    "    return ax, ay\n",
    "\n",
    "# Calculate circular velocity in Hernquist Potential given position coordinates\n",
    "def circular_velocity(M, x, y, c, G):\n",
    "    \"\"\"\n",
    "    Parameters\n",
    "    ----------\n",
    "    mass : float\n",
    "        mass of central body\n",
    "    x : array\n",
    "        x-postions\n",
    "    y : array\n",
    "        y-postions\n",
    "    G : float\n",
    "        Gravitational Constant  \n",
    "        \n",
    "    Returns\n",
    "    ----------\n",
    "    vc : array\n",
    "        circular velocity\n",
    "    \"\"\"\n",
    "    r = np.sqrt(x**2 + y**2)\n",
    "    return np.sqrt((G*M * r) / (r+c)**2)\n",
    "\n",
    "# Calculate period of circular orbit in Hernquist potential given position coordinates\n",
    "def time_period(M, x, y, c, G):\n",
    "    \"\"\"\n",
    "    Parameters\n",
    "    ----------\n",
    "    mass : float\n",
    "        mass of central body\n",
    "    x : array\n",
    "        x-postions\n",
    "    y : array\n",
    "        y-postions\n",
    "    G : float\n",
    "        Gravitational Constant  \n",
    "        \n",
    "    Returns\n",
    "    ----------\n",
    "    vc : array\n",
    "        time period of a circular orbit\n",
    "    \"\"\"\n",
    "    r = np.sqrt(x**2 + y**2)\n",
    "    vcirc = np.sqrt((G*M*r) / (r+c)**2)\n",
    "    return (2*np.pi*r) / vcirc"
   ]
  },
  {
   "cell_type": "code",
   "execution_count": 8,
   "id": "dbe97e01",
   "metadata": {},
   "outputs": [
    {
     "name": "stdout",
     "output_type": "stream",
     "text": [
      "difference in time period for smaller satellite = 0.03789302999240052\n",
      "difference in time period for larger satellite = 0.8161499033189736\n"
     ]
    }
   ],
   "source": [
    "# Radius for leading and trailing stream (R+-Rtide from first question)\n",
    "Rplus_1 = R + r_tide1 #trailing for satellite 1\n",
    "Rminus_1 = R - r_tide1 #leading for satellite 1\n",
    "\n",
    "Rplus_2 = R + r_tide2 #trailing for satellite 2\n",
    "Rminus_2 = R - r_tide2 #leading for satellite 2\n",
    "\n",
    "G = 62.2e-8 #assumed value for gravitational constant\n",
    "\n",
    "# Calculate circular velocity and time period for trailing/leading stream of each satllite\n",
    "vcirc_plus1 = circular_velocity(mgal, Rplus_1, 0, 15, G) \n",
    "vcirc_minus1 = circular_velocity(mgal, Rminus_1, 0, 15, G)\n",
    "\n",
    "T_plus1 = time_period(mgal, Rplus_1, 0, 15, G)\n",
    "T_minus1 = time_period(mgal, Rminus_1, 0, 15, G)\n",
    "\n",
    "vcirc_plus2 = circular_velocity(mgal, Rplus_2, 0, 15, G)\n",
    "vcirc_minus2 = circular_velocity(mgal, Rminus_2, 0, 15, G)\n",
    "\n",
    "T_plus2 = time_period(mgal, Rplus_2, 0, 15, G)\n",
    "T_minus2 = time_period(mgal, Rminus_2, 0, 15, G)\n",
    "\n",
    "# Estimate differences \n",
    "t_diff1 = T_plus1 - T_minus1\n",
    "t_diff2 = T_plus2 - T_minus2\n",
    "\n",
    "print('difference in time period for smaller satellite =', t_diff1)\n",
    "print('difference in time period for larger satellite =', t_diff2)"
   ]
  },
  {
   "cell_type": "code",
   "execution_count": 9,
   "id": "6e440e88",
   "metadata": {},
   "outputs": [
    {
     "name": "stdout",
     "output_type": "stream",
     "text": [
      "difference in total energy for smaller satellite = 112.27212488409259\n",
      "difference in total energy for larger satellite = 2462.2672455639113\n"
     ]
    }
   ],
   "source": [
    "# Plug terms into given formula for total energy\n",
    "Eplus_1 = 0.5*vcirc_plus1**2 + Hernquist_potential(mgal, Rplus_1, 0, 15, G)\n",
    "Eminus_1 = 0.5*vcirc_minus1**2 + Hernquist_potential(mgal, Rminus_1, 0, 15, G)\n",
    "\n",
    "Eplus_2 = 0.5*vcirc_plus2**2 + Hernquist_potential(mgal, Rplus_2, 0, 15, G)\n",
    "Eminus_2 = 0.5*vcirc_minus2**2 + Hernquist_potential(mgal, Rminus_2, 0, 15, G)\n",
    "\n",
    "# Take difference\n",
    "E_diff1 = Eplus_1 - Eminus_1\n",
    "E_diff2 = Eplus_2 - Eminus_2\n",
    "\n",
    "print('difference in total energy for smaller satellite =', E_diff1)\n",
    "print('difference in total energy for larger satellite =', E_diff2)"
   ]
  },
  {
   "cell_type": "markdown",
   "id": "0f6e6e8e",
   "metadata": {},
   "source": [
    "#### Question 3\n",
    "\n",
    "Roughly how long (in angle around the galaxy) do you think your streams should be after 1 orbit? After 10 orbits?\n",
    "\n",
    "Hint: You'll need to find the angular velocity difference of stars in the leading and trailing streams from your answer to **Question 2**."
   ]
  },
  {
   "cell_type": "code",
   "execution_count": 11,
   "id": "16f51922",
   "metadata": {},
   "outputs": [
    {
     "name": "stdout",
     "output_type": "stream",
     "text": [
      "Length of stream for smaller satellite after 1 orbit = 0.08573939499712348 radians\n",
      "Length of stream for larger satellite after 1 orbit = 1.874677183781147 radians\n",
      "Length of stream for smaller satellite after 10 orbits = 0.8573939499712347 radians\n",
      "Length of stream for larger satellite after 10 orbits = 18.74677183781147 radians\n"
     ]
    }
   ],
   "source": [
    "# Angular velocity is omega = 2pi / time period\n",
    "omega_plus1 = 2*np.pi / T_plus1\n",
    "omega_minus1 = 2*np.pi / T_minus1\n",
    "\n",
    "omega_diff1 = omega_plus1 - omega_minus1 # difference in angular velocity for smaller satellite\n",
    "\n",
    "omega_plus2 = 2*np.pi / T_plus2\n",
    "omega_minus2 = 2*np.pi / T_minus2\n",
    "\n",
    "omega_diff2 = omega_plus2 - omega_minus2 # difference in angular velocity for larger satellite\n",
    "\n",
    "T = time_period(mgal, R, 0, 15, G) # Time period of satellite orbit\n",
    "\n",
    "# Get length of stream from the angular separation between the leading and trailing stream after one orbit\n",
    "L1 = omega_diff1 * T\n",
    "L2 = omega_diff2 * T\n",
    "\n",
    "print('Length of stream for smaller satellite after 1 orbit = {} radians'.format(abs(L1)))\n",
    "print('Length of stream for larger satellite after 1 orbit = {} radians'.format(abs(L2)))\n",
    "\n",
    "# same procedure as above but now after 10 orbits\n",
    "L1_10 = omega_diff1 * (10*T)\n",
    "L2_10 = omega_diff2 * (10*T)\n",
    "\n",
    "print('Length of stream for smaller satellite after 10 orbits = {} radians'.format(abs(L1_10)))\n",
    "print('Length of stream for larger satellite after 10 orbits = {} radians'.format(abs(L2_10)))"
   ]
  },
  {
   "cell_type": "markdown",
   "id": "2299579a",
   "metadata": {},
   "source": [
    "## Note on leading and trailing tails"
   ]
  },
  {
   "cell_type": "markdown",
   "id": "c2a5aa64",
   "metadata": {},
   "source": [
    "In streams, the leading tail is formed by either the outer or inner part of the satellite as those stars get stripped. However, there is not a hard and fast rule about which tail is formed by which part. This is because of the circular velocity curve and how it changes with radius. The only thing that is consistently true is that for any potential, the part of the stream that is moving faster is the leading tail while the part moving slower is the trailing tail.\n",
    "\n",
    "In a Keplarian potential, the leading tail is always formed from the part of the stream that is closer to the center of the galaxy. This is because the circular velocity is always decreasing with increasing radius, as we can see from the following plot:"
   ]
  },
  {
   "cell_type": "code",
   "execution_count": 21,
   "id": "b2ac2ae0",
   "metadata": {},
   "outputs": [
    {
     "data": {
      "image/png": "[encoded data removed]",
      "text/plain": [
       "<Figure size 432x288 with 1 Axes>"
      ]
     },
     "metadata": {
      "needs_background": "light"
     },
     "output_type": "display_data"
    }
   ],
   "source": [
    "# Calculate circular velocity in Keplerian Potential given a radius\n",
    "def circ_vel_kepler(M, r, G):\n",
    "    return np.sqrt((G*M) / r)\n",
    "\n",
    "rs = np.linspace(1,100,100)\n",
    "plt.plot(rs, circ_vel_kepler(1e12, rs, G), c='k')\n",
    "plt.xlabel('Radius', fontsize=15)\n",
    "plt.ylabel(r'$v_{circ}$', fontsize = 15)\n",
    "plt.title('Keplarian Circular Velocity Curve', fontsize=20)\n",
    "plt.show()"
   ]
  },
  {
   "cell_type": "markdown",
   "id": "9f5b8c5b",
   "metadata": {},
   "source": [
    "However, in a Herquist potential (and most others) the circular velocity is not always decreasing with radius. In fact, up until the scale radius, the circular velocity is increasing, and it only starts decreasing after this point. You should be able to convince yourself of the mathematics of this by taking a derivative of the circular velocity equation. \n",
    "\n",
    "Conceptually, you should think about why this is. With a point source like in the Kepler potential, the farther you get from the point, the smaller the force on you, meaning that you need to be moving slower to stay bound to the galaxy. But if your mass is extended, then the mass is all around you and that is no longer necessarily the case. There is now also mass on the \"outside\" of your orbit that is \"encouraging\" you to speed up. Try to make sure that this makes sense conceptually. Hopefully this also makes you understand why the scale radius is an important physical quantity and not just a random number we assign to galaxies"
   ]
  },
  {
   "cell_type": "code",
   "execution_count": 22,
   "id": "8b861c02",
   "metadata": {},
   "outputs": [
    {
     "data": {
      "image/png": "[encoded data removed]",
      "text/plain": [
       "<Figure size 432x288 with 1 Axes>"
      ]
     },
     "metadata": {
      "needs_background": "light"
     },
     "output_type": "display_data"
    }
   ],
   "source": [
    "def circ_vel_hernquist(M, r, c, G):\n",
    "    return np.sqrt((G*M*r) / (r+c)**2)\n",
    "\n",
    "rs = np.linspace(0,100,100)\n",
    "plt.plot(rs, circ_vel_hernquist(1e12, rs, 15, G), c='k')\n",
    "plt.vlines(15, 0, 120, color='k', linestyles='--')\n",
    "plt.xlabel('Radius', fontsize=15)\n",
    "plt.ylabel(r'$v_{circ}$', fontsize = 15)\n",
    "plt.title('Hernquist Circular Velocity Curve', fontsize=20)\n",
    "plt.show()"
   ]
  },
  {
   "cell_type": "markdown",
   "id": "4536bde4",
   "metadata": {},
   "source": []
  }
 ],
 "metadata": {
  "kernelspec": {
   "display_name": "Python 3 (ipykernel)",
   "language": "python",
   "name": "python3"
  },
  "language_info": {
   "codemirror_mode": {
    "name": "ipython",
    "version": 3
   },
   "file_extension": ".py",
   "mimetype": "text/x-python",
   "name": "python",
   "nbconvert_exporter": "python",
   "pygments_lexer": "ipython3",
   "version": "3.7.7"
  }
 },
 "nbformat": 4,
 "nbformat_minor": 5
}
