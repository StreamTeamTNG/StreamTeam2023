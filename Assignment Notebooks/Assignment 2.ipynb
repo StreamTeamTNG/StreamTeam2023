{
 "cells": [
  {
   "cell_type": "markdown",
   "id": "23beef8f",
   "metadata": {},
   "source": [
    "## Assignment 2"
   ]
  },
  {
   "cell_type": "markdown",
   "id": "20e26d70",
   "metadata": {},
   "source": [
    "In this assignment, we are asking you to make estimates for what to expect when doing orbit integrations. This will rely on some of the math that we went over at the first meeting. You should be able to find those slides on the StreamTeam Google Drive, which is linked in the Slack \"General\" channel bookmarks (above all the messages).\n",
    "\n",
    "Using some of the equations that we learned about last week, we should be able to make predictions about the orbits of individual stars. This will help us understand how streams form and also give allow us to compare our code results to expectations once we start to make streams in Gala.\n",
    "\n",
    "I will guide you through writing the code for the first question and you should use the coding techniques (commenting, printing answers, keeping track of units, function writing (optional)) introduced there when finding the answers to questions 2 and 3."
   ]
  },
  {
   "cell_type": "markdown",
   "id": "deac3d29",
   "metadata": {},
   "source": [
    "First let's import the normal packages that we always use"
   ]
  },
  {
   "cell_type": "code",
   "execution_count": null,
   "id": "92f79398",
   "metadata": {},
   "outputs": [],
   "source": [
    "import numpy as np\n",
    "import matplotlib.pyplot as plt\n",
    "%matplotlib inline\n",
    "\n",
    "# Gala (this is not strictly necessary, since this notebook doesn't use Gala, but a good habit)\n",
    "import gala\n",
    "import gala.dynamics as gd\n",
    "import gala.potential as gp"
   ]
  },
  {
   "cell_type": "markdown",
   "id": "1e04f2b7",
   "metadata": {},
   "source": [
    "#### Quick Background\n",
    "\n",
    "As we have seen, streams are made up of stars that were once either dwarf galaxies or globular clusters. We can refer to either one of these as \"satellites\" that orbit the Milky Way. On those orbits, satellite stars are *tidally stripped*, forming streams. The stars are stripped when the \"pull\" from the host galaxy is stronger than the gravitational force within the satellite itself. When that happens to a star, it will separate from its satellite and become part of a stream of stars undergoing the same fate. THe overcoming of the gravitational force of the satellite on a given star will happen at a certain radius from the center of the satellite, called the *tidal radius*. The *tidal radius* at which stars are lost from the satellite is given by the formula $$r_{tide} \\sim (\\frac{m_{sat}}{M_{gal}})^{1/3} R$$"
   ]
  },
  {
   "cell_type": "markdown",
   "id": "7d827257",
   "metadata": {},
   "source": [
    "#### Question 1\n",
    "\n",
    "Calculate $r_{tide}$ for two satellites, one with mass $m_{sat} = 10^5 M_{\\odot}$ and one with mass $m_{sat} = 10^9 M_{\\odot}$ orbiting a galaxy of mass $M_{gal} = 5 \\times 10^{11} M_{\\odot}$ at $R_0 = 30$ kpc"
   ]
  },
  {
   "cell_type": "code",
   "execution_count": null,
   "id": "42f73a4f",
   "metadata": {},
   "outputs": [],
   "source": [
    "# write code below to calculate r_tide. \n",
    "#  Call r_tide for the smaller satellite r_tide1 and r_tide for the larger one r_tide2\n",
    "\n",
    "\n",
    "\n",
    "\n",
    "# Quick check: What units is your answer in? \n",
    "#  You didn't need to code units into your code specifically, \n",
    "#   but you should always make sure you know what units you are working with. \n",
    "#  If it isn't already, make sure that r_tide1 and r_tide2 are in kpc, \n",
    "#   so that the two lines of output at the end of this cell are correct\n",
    "\n",
    "# End your code with these two lines to output your results:\n",
    "print('Smaller satellite r_tide = {} kpc'.format(r_tide1))\n",
    "print('Larger satellite r_tide = {} kpc'.format(r_tide2))"
   ]
  },
  {
   "cell_type": "markdown",
   "id": "bfb3f817",
   "metadata": {},
   "source": [
    "Now that you've written your code let's do a guided practice with function writing in python if you aren't familiar with it already. Try to write a function that takes in as variables the satelite mass, galaxy mass, and radius from galaxy center, and outputs the tidal radius."
   ]
  },
  {
   "cell_type": "code",
   "execution_count": null,
   "id": "2365f25a",
   "metadata": {},
   "outputs": [],
   "source": [
    "# Here is the basic structure of your code to write functions:\n",
    "\n",
    "# Make sure to change the names of the functions and parameters to things \n",
    "#  that make sense for you and anyone reading your code\n",
    "    \n",
    "def name_of_function(param1, param2, param3): \n",
    "    # use the code you've written above to go from your inputed parameters to the output\n",
    "    r_tide = \"Your code here...\"\n",
    "\n",
    "    return r_tide # this outputs you the tidal radius for your inputed parameters"
   ]
  },
  {
   "cell_type": "markdown",
   "id": "9f87a896",
   "metadata": {},
   "source": [
    "As a test, you should now be able to run the following cell, after changing the name of your function"
   ]
  },
  {
   "cell_type": "code",
   "execution_count": null,
   "id": "5c1c3817",
   "metadata": {},
   "outputs": [],
   "source": [
    "r_tide1 = name_of_function(10**5, 5*10**11, 30)\n",
    "r_tide2 = name_of_function(10**9, 5*10**11, 30)\n",
    "\n",
    "print('Smaller satellite r_tide = {} kpc'.format(r_tide1))\n",
    "print('Larger satellite r_tide = {} kpc'.format(r_tide2))\n",
    "\n",
    "# this should output exactly the same thing as your initial code \n",
    "#  but it has the advantage that you can now easily try out other values for m_sat, m_gal, and R"
   ]
  },
  {
   "cell_type": "markdown",
   "id": "6e1f2dc6",
   "metadata": {},
   "source": [
    "Pick one of the two satellites and use the function you just wrote to answer: What happens when to $r_{tide}$ when you decrease the radius of the satellite to 5 kpc? What if you increase it to 100 kpc?"
   ]
  },
  {
   "cell_type": "code",
   "execution_count": null,
   "id": "00ed78a1",
   "metadata": {},
   "outputs": [],
   "source": [
    "# Write your code below using the function you defined earlier\n",
    "\n",
    "r_tide_inner = ...\n",
    "r_tide_outer = ...\n",
    "\n",
    "print('Inner satellite r_tide = {} kpc'.format(r_tide_inner))\n",
    "print('Outer satellite r_tide = {} kpc'.format(r_tide_outer))"
   ]
  },
  {
   "cell_type": "markdown",
   "id": "09a0c9f3",
   "metadata": {},
   "source": [
    "#### Question 2\n",
    "\n",
    "From the previous assignment, you should have some functions written for the Hernquist potential using the Keplerian potential used in \"Leapfrog_tutorial\" as a guide. Apply those functions for the potential, acceleration, and circular velocity to complete this question. \n",
    "\n",
    "For each satellite from the previous question, what is the difference in the orbital period $T$ for stars that end up in the leading (at $R = R_0 + r_{tide}$) and trailing (at $R = R_0 - r_{tide}$) streams? Assume that the satellites are on a circular orbit, meaning you can use one of the formulas for $T$ in the slides (or at the end of the \"Leapfrog_tutorial\" notebook).\n",
    "\n",
    "What is the difference in energy for those two galaxies? Use the formula for total energy $$E = \\frac{1}{2} v_{circ}^2 + \\Phi(R \\pm r_{tide})$$ where $\\Phi$ represents the Herquist potential."
   ]
  },
  {
   "cell_type": "code",
   "execution_count": null,
   "id": "d896af30",
   "metadata": {},
   "outputs": [],
   "source": [
    "# Your code below...\n",
    "\n"
   ]
  },
  {
   "cell_type": "markdown",
   "id": "50dd6f34",
   "metadata": {},
   "source": [
    "#### Question 3\n",
    "\n",
    "Roughly how long (in angle around the galaxy) do you think your streams should be after 1 orbit? After 10 orbits?\n",
    "\n",
    "Hint: You'll need to find the angular velocity difference of stars in the leading and trailing streams from your answer to **Question 2**."
   ]
  },
  {
   "cell_type": "code",
   "execution_count": null,
   "id": "347a824c",
   "metadata": {},
   "outputs": [],
   "source": [
    "# Your code below...\n",
    "\n",
    "\n"
   ]
  }
 ],
 "metadata": {
  "kernelspec": {
   "display_name": "Python 3 (ipykernel)",
   "language": "python",
   "name": "python3"
  },
  "language_info": {
   "codemirror_mode": {
    "name": "ipython",
    "version": 3
   },
   "file_extension": ".py",
   "mimetype": "text/x-python",
   "name": "python",
   "nbconvert_exporter": "python",
   "pygments_lexer": "ipython3",
   "version": "3.7.7"
  }
 },
 "nbformat": 4,
 "nbformat_minor": 5
}
