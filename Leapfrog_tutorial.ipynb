{
 "cells": [
  {
   "cell_type": "code",
   "execution_count": 31,
   "id": "146a29f0",
   "metadata": {},
   "outputs": [],
   "source": [
    "import numpy as np\n",
    "import matplotlib.pyplot as plt\n",
    "\n",
    "# Gala\n",
    "import gala.dynamics as gd\n",
    "import gala.potential as gp\n",
    "from gala.units import galactic\n",
    "\n",
    "# Astropy\n",
    "import astropy\n",
    "from astropy import units as u, constants as const"
   ]
  },
  {
   "cell_type": "markdown",
   "id": "e31f6ee0",
   "metadata": {},
   "source": [
    "# Orbital Integration Tutorial"
   ]
  },
  {
   "cell_type": "markdown",
   "id": "dce03bdc",
   "metadata": {},
   "source": [
    "Perhaps the simpliset method of orbital integration involves the classic \"Leapfrog\" algorithm. The leapfrog algorithm leverages basic numerical integration schemes to solve the equations of motion. Step by step, we hope to show how based on the equations of motion and with an understanding of the underlying potential, we can fully integrate orbital trajectories to high accuracy."
   ]
  },
  {
   "cell_type": "code",
   "execution_count": 26,
   "id": "d5e35753",
   "metadata": {},
   "outputs": [],
   "source": [
    "# Calculate the potential given position coordinates\n",
    "def kep_potential(M, x, y, G):\n",
    "    \"\"\"\n",
    "    Parameters\n",
    "    ----------\n",
    "    mass : float\n",
    "        mass of central body\n",
    "    x : array\n",
    "        x-postions\n",
    "    y : array\n",
    "        y-postions\n",
    "    G : float\n",
    "        Gravitational Constant  \n",
    "        \n",
    "    Returns\n",
    "    ----------\n",
    "    ax : array\n",
    "    Potential value \n",
    "    \"\"\"\n",
    "    r = np.sqrt(x**2 + y**2)\n",
    "    return (-G*M)/r\n",
    "\n",
    "# Calculate acceleration given position coordinates\n",
    "def keplerian_accel(M, x, y, G):\n",
    "    \"\"\"\n",
    "    Parameters\n",
    "    ----------\n",
    "    mass : float\n",
    "        mass of central body\n",
    "    x : array\n",
    "        x-postions\n",
    "    y : array\n",
    "        y-postions\n",
    "    G : float\n",
    "        Gravitational Constant  \n",
    "        \n",
    "    Returns\n",
    "    ----------\n",
    "    ax : array\n",
    "        x-accelerations \n",
    "    ay : array\n",
    "        y-accelerations \n",
    "    \"\"\"\n",
    "    \n",
    "    # Little trick here -- the following line give you the Cartesian accelerations for \n",
    "    # any spherical potential\n",
    "    # Just replace dr with the derivative of the potential with respect to r (dPhi/dr)\n",
    "    r = np.sqrt(x**2 + y**2)\n",
    "    dr = (G*M)/r**2 # Derivative of potential\n",
    "    ax = -dr * (x/r)\n",
    "    ay = -dr * (y/r)\n",
    "    \n",
    "    return ax, ay\n",
    "\n",
    "# Calculate circular velocity in Keplerian Potential given position coordinates\n",
    "def circular_velocity(M, x, y, G):\n",
    "    \"\"\"\n",
    "    Parameters\n",
    "    ----------\n",
    "    mass : float\n",
    "        mass of central body\n",
    "    x : array\n",
    "        x-postions\n",
    "    y : array\n",
    "        y-postions\n",
    "    G : float\n",
    "        Gravitational Constant  \n",
    "        \n",
    "    Returns\n",
    "    ----------\n",
    "    vc : array\n",
    "        circular velocity\n",
    "    \"\"\"\n",
    "    r = np.sqrt(x**2 + y**2)\n",
    "    return np.sqrt((G*M) / r)\n",
    "\n",
    "# Calculate period of circular orbit in Keplerian potential given position coordinates\n",
    "def time_period(M, x, y, G):\n",
    "    \"\"\"\n",
    "    Parameters\n",
    "    ----------\n",
    "    mass : float\n",
    "        mass of central body\n",
    "    x : array\n",
    "        x-postions\n",
    "    y : array\n",
    "        y-postions\n",
    "    G : float\n",
    "        Gravitational Constant  \n",
    "        \n",
    "    Returns\n",
    "    ----------\n",
    "    vc : array\n",
    "        time period of a circular orbit\n",
    "    \"\"\"\n",
    "    r = np.sqrt(x**2 + y**2)\n",
    "    vcirc = np.sqrt((G*M) / r)\n",
    "    return (2*np.pi*r) / vcirc"
   ]
  },
  {
   "cell_type": "markdown",
   "id": "c1da9135",
   "metadata": {},
   "source": [
    "## Initial Conditions"
   ]
  },
  {
   "cell_type": "markdown",
   "id": "c7d27031",
   "metadata": {},
   "source": [
    "First, we must define the initial conditions of our orbit. We will focus on orbits in the x-y plane, therefore we need to provide the inital position ($x_0$,$y_0$) and velocity ($v_{0,x}$,$v_{0,y}$) of our tracer particle. These are our initialphase-space coordinates. \n",
    "\n",
    "For this exercise, we use the simpliest potential there is, which is the Keplerian Potential, describing the gravitational potential between two bodies. $$\\Phi = \\frac{-G M}{r}$$ G is the Gravitational Constant, M is the mass of the central body, and r is the distance between the central body and of our tracer particle. Our choice of the central mass and the radial distance defines the strength of the force, and in turn, the acceleration the tracer particle feels along its orbit."
   ]
  },
  {
   "cell_type": "code",
   "execution_count": 27,
   "id": "08e0cb50",
   "metadata": {},
   "outputs": [],
   "source": [
    "# Initial Conditions for positions and velocity\n",
    "x_0 = 1 #* u.AU\n",
    "y_0 = 0 #* u.AU\n",
    "\n",
    "Mass = 1 #* u.Msun\n",
    "\n",
    "vx_0 = 0 #* u.m / u.s\n",
    "vy_0 = 1 #* u.m / u.s\n",
    "\n",
    "ax_0, ay_0 = keplerian_accel(Mass, x_0, y_0,  G=1) #Initial acceleration from the underlying potential "
   ]
  },
  {
   "cell_type": "markdown",
   "id": "5251d0fe",
   "metadata": {},
   "source": [
    "For our integration, we must set the size of our steps in time, dt, and how many steps we plan to take along the orbit, N. Both N and dt are free parameters of the integration. Once we choose a value of N and dt, we can step of empty arrays of position, velocity, and acceleration which will be filled over the course of the leapfrog integration. \n",
    "\n",
    "With our knowledge of the positions and velocities, it is good to also track the total energy, E, of the gravitating system. We can calculate this easily from the sum of the kinetic and potential energy. Recording the energy will tell us how bound or unbound our orbit is in our defined potential."
   ]
  },
  {
   "cell_type": "code",
   "execution_count": 28,
   "id": "21e7e29e",
   "metadata": {},
   "outputs": [],
   "source": [
    "N = 100 # number of steps in orbit integration\n",
    "dt = 0.1 #* u.yr # size of the steps in time\n",
    "\n",
    "dt_ = dt #.value # .value strips away units\n",
    "t = np.arange(0,N*dt_,dt_) # time interval over which we are integrating the orbit\n",
    "\n",
    "# Arrays of positions, velocities, and acccelerations\n",
    "x = np.zeros(len(t)) #* u.AU\n",
    "y = np.zeros(len(t)) #* u.AU\n",
    "\n",
    "vx = np.zeros(len(t)) #* u.m / u.s\n",
    "vy = np.zeros(len(t)) #* u.m / u.s\n",
    "\n",
    "ax = np.zeros(len(t)) #* u.m / u.s**2\n",
    "ay = np.zeros(len(t)) #* u.m / u.s**2\n",
    "\n",
    "E = np.zeros(len(t)) #* u.m**2 / u.s**2\n",
    "\n",
    "# Set the first value of our position and velocity arrays equal to our initial conditions\n",
    "x[0] = x_0\n",
    "y[0] = y_0\n",
    "\n",
    "vx[0] = vx_0\n",
    "vy[0] = vy_0\n",
    "\n",
    "ax[0] = ax_0\n",
    "ay[0] = ay_0\n",
    "\n",
    "E[0] = 0.5*(vx_0**2 + vy_0**2) + kep_potential(Mass, x_0, y_0,  G=1) # total energy of the system (Kinetic + Potential)"
   ]
  },
  {
   "cell_type": "markdown",
   "id": "d92f432a",
   "metadata": {},
   "source": [
    "# Kick-Drift-Kick: Leapfrog"
   ]
  },
  {
   "cell_type": "markdown",
   "id": "18ce857c",
   "metadata": {},
   "source": [
    "Here we present the three steps of the leapfrog algorithm. First, the tracer particle recieves a \"kick\" from the underlying potential. This is reflected in the average acceleration that the particle undergoes over the timestep dt from the gravity of the central body. This \"kick\" prompts a change in the velocity, which then prompts a change in the position (drift!). \n",
    "\n",
    "But now the particle finds itself in a new position with a whole new value for the gravitational potential. The tracer particle now feels the gravitational acceleration of the potential and recieves a new \"kick\". \n",
    "\n",
    "We can write a \"for loop\" to iterate over each step in our integration, recording the position, velocity, acceleration, and energy at each step.\n",
    "\n",
    "If we were to draw this out linarly like a ruler in time (which I highly recommend that you do!), with $x_0$ at $t=0$, $v_{1/2}$ at $t=0 + dt/2$, $x_1$ at $t=dt$, and so on, you will see why the leapfrog algorithm gets its name!"
   ]
  },
  {
   "cell_type": "code",
   "execution_count": 29,
   "id": "15b03cff",
   "metadata": {},
   "outputs": [],
   "source": [
    "for i in range(len(t)-1):\n",
    "    ax[i], ay[i] = keplerian_accel(Mass, x[i], y[i], G=1) # Find new acceleration\n",
    "    vx_plushalf = vx[i] + ax[i]*dt*(1/2) # Find new velocity given accleration from potential (kick!)\n",
    "    x[i+1] = x[i] + vx_plushalf*dt # Find new position given previous particle velocity and acceleration (drift!)\n",
    "\n",
    "    vy_plushalf = vy[i] + ay[i]*dt*(1/2)\n",
    "    y[i+1] = y[i] + vy_plushalf*dt # Find new position given previous particle velocity and acceleration\n",
    "    \n",
    "    ax[i+1], ay[i+1] = keplerian_accel(Mass, x[i+1], y[i+1], G=1) # Find new acceleration\n",
    "        \n",
    "    vx[i+1] = vx_plushalf + ax[i+1]*dt*(1/2) # Find new velocity given new acceleration (kick!)\n",
    "    vy[i+1] = vy_plushalf + ay[i+1]*dt*(1/2) # Find new velocity given new acceleration (kick!)"
   ]
  },
  {
   "cell_type": "markdown",
   "id": "a327053a",
   "metadata": {},
   "source": [
    "Once we've completed the orbit integration, we can now see what our orbit looks like in the x-y plane and look at that! Circular orbits!"
   ]
  },
  {
   "cell_type": "code",
   "execution_count": 30,
   "id": "70cd01a2",
   "metadata": {},
   "outputs": [
    {
     "data": {
      "text/plain": [
       "[<matplotlib.lines.Line2D at 0x7fdcaf30ff50>]"
      ]
     },
     "execution_count": 30,
     "metadata": {},
     "output_type": "execute_result"
    },
    {
     "data": {
      "image/png": "[encoded data removed]",
      "text/plain": [
       "<Figure size 432x288 with 1 Axes>"
      ]
     },
     "metadata": {
      "needs_background": "light"
     },
     "output_type": "display_data"
    }
   ],
   "source": [
    "plt.plot(x, y)"
   ]
  },
  {
   "cell_type": "markdown",
   "id": "aaaa8f45",
   "metadata": {},
   "source": [
    "We can also plot the circular velocity as a function of radius."
   ]
  },
  {
   "cell_type": "code",
   "execution_count": 22,
   "id": "b2c5f716",
   "metadata": {},
   "outputs": [
    {
     "data": {
      "text/plain": [
       "Text(0, 0.5, 'circular velocity')"
      ]
     },
     "execution_count": 22,
     "metadata": {},
     "output_type": "execute_result"
    },
    {
     "data": {
      "image/png": "[encoded data removed]",
      "text/plain": [
       "<Figure size 432x288 with 1 Axes>"
      ]
     },
     "metadata": {
      "needs_background": "light"
     },
     "output_type": "display_data"
    }
   ],
   "source": [
    "# can use np.arange to build an array of x,y values from 0.1 to 10\n",
    "x = np.arange(0.1,10,0.1)\n",
    "y = np.arange(0.1,10,0.1)\n",
    "r = np.sqrt(x**2 + y**2)\n",
    "\n",
    "vcirc = circular_velocity(Mass, x, y, G=1)\n",
    "\n",
    "r = np.sqrt(x**2 + y**2)\n",
    "\n",
    "plt.plot(r, vcirc)\n",
    "plt.xlabel('r')\n",
    "plt.ylabel('circular velocity')"
   ]
  },
  {
   "cell_type": "markdown",
   "id": "829db0a1",
   "metadata": {},
   "source": [
    "And the time period of an orbit as a funcion of radius."
   ]
  },
  {
   "cell_type": "code",
   "execution_count": 23,
   "id": "00402d5d",
   "metadata": {},
   "outputs": [
    {
     "data": {
      "text/plain": [
       "Text(0, 0.5, 'Time Period')"
      ]
     },
     "execution_count": 23,
     "metadata": {},
     "output_type": "execute_result"
    },
    {
     "data": {
      "image/png": "[encoded data removed]",
      "text/plain": [
       "<Figure size 432x288 with 1 Axes>"
      ]
     },
     "metadata": {
      "needs_background": "light"
     },
     "output_type": "display_data"
    }
   ],
   "source": [
    "Tp = time_period(Mass, x, y, G=1)\n",
    "\n",
    "plt.plot(r, vcirc)\n",
    "plt.xlabel('r')\n",
    "plt.ylabel('Time Period')"
   ]
  },
  {
   "cell_type": "markdown",
   "id": "ae258ede",
   "metadata": {},
   "source": [
    "## Exercises "
   ]
  },
  {
   "cell_type": "markdown",
   "id": "c80f762e",
   "metadata": {},
   "source": [
    "What happens when you experiment with your initial phase-space coordinates?"
   ]
  },
  {
   "cell_type": "code",
   "execution_count": null,
   "id": "7db4d2a8",
   "metadata": {},
   "outputs": [],
   "source": []
  },
  {
   "cell_type": "code",
   "execution_count": null,
   "id": "43e6af59",
   "metadata": {},
   "outputs": [],
   "source": []
  },
  {
   "cell_type": "markdown",
   "id": "f5b8f830",
   "metadata": {},
   "source": [
    "What happens when the change the size of dt in your integration? In the context of the equations of motion, why do you this happens? "
   ]
  },
  {
   "cell_type": "code",
   "execution_count": null,
   "id": "250e1069",
   "metadata": {},
   "outputs": [],
   "source": []
  },
  {
   "cell_type": "code",
   "execution_count": null,
   "id": "5c0a70bd",
   "metadata": {},
   "outputs": [],
   "source": []
  },
  {
   "cell_type": "markdown",
   "id": "a0909d9b",
   "metadata": {},
   "source": [
    "# Orbit Integration in Gala"
   ]
  },
  {
   "cell_type": "markdown",
   "id": "af0bd49e",
   "metadata": {},
   "source": [
    "We just walked through the innerworkings of the Leapfrog algorithm, but the gala orbital dynamics package can do all of this as well! We can find the Keplerian Potential in gala's potential library called gala.ptoential, which we imported as gp. We define an initial phasespace position, timestep, and total length, just like  we did above. With all that, gala can perform the same operation with only a few lines of code.\n",
    "\n",
    "And as we see below, we arrive at the same results."
   ]
  },
  {
   "cell_type": "code",
   "execution_count": 59,
   "id": "47ba1f95",
   "metadata": {},
   "outputs": [],
   "source": [
    "# Gala plot for comparison\n",
    "pot = gp.KeplerPotential(m=1) # defining potential with mass of central body equal to 1\n",
    "w0 = gd.PhaseSpacePosition(pos=[1, 0, 0], vel=[0, 1, 0]) # define initial phase space coordinates\n",
    "star_orbit = pot.integrate_orbit(w0, dt=0.1, t1=0, t2=10) # run integration after defining timestep and start/end of time interval"
   ]
  },
  {
   "cell_type": "code",
   "execution_count": 60,
   "id": "5d4b7320",
   "metadata": {},
   "outputs": [
    {
     "data": {
      "text/plain": [
       "[<matplotlib.lines.Line2D at 0x7fb5d59de390>]"
      ]
     },
     "execution_count": 60,
     "metadata": {},
     "output_type": "execute_result"
    },
    {
     "data": {
      "image/png": "[encoded data removed]",
      "text/plain": [
       "<Figure size 432x288 with 1 Axes>"
      ]
     },
     "metadata": {
      "needs_background": "light"
     },
     "output_type": "display_data"
    }
   ],
   "source": [
    "plt.plot(star_orbit.x, star_orbit.y)"
   ]
  },
  {
   "cell_type": "markdown",
   "id": "adf62d88",
   "metadata": {},
   "source": [
    "So this was a brief tutorial showing how to integrate orbits in a simple Keplerian potential. But what about more complicated potentials? Like the Keplarian case, the Hernquist Potential is a spherical potential but rather than orbiting in a potential set by a single point mass, the mass distribution in the Hernquist Potential is a centrally concentrated mass distibution that falls off with radius. $$\\Phi = \\frac{-G M}{r+c}$$\n",
    "The new parameter c can be thought of as as a measure of how concentrated the mass distribution is that defines the potential and M is the total mass of the object it representds. \n",
    "\n",
    "The actual details of this potential are not so important right now, other than that it can be used as a rough representation of mass in something like a galaxy. Given what we know now about orbit integration and gala, you should have the tools now to write your own leapfrog code for the Hernquist potential and how to run orbit integrator schemes using gala. "
   ]
  },
  {
   "cell_type": "code",
   "execution_count": 32,
   "id": "0b73c183",
   "metadata": {},
   "outputs": [],
   "source": [
    "Mass = 1e12 # mass of the halo in solar masses \n",
    "c = 15 # mass concentration in kiloparsecs\n",
    "\n",
    "Pot = gp.HernquistPotential(Mass, c, units=galactic) # units defines which unit system we are using. \n",
    "# We will learn more about this along the way but for the sake fo this demonstraton, we will use \"Galactic\"\n",
    "\n",
    "w0 = gd.PhaseSpacePosition(pos=[10., 0., 0]*u.kpc,\n",
    "                           vel=[0., 200, 0]*u.km/u.s) # initial phase space coordinates (with units attached)"
   ]
  },
  {
   "cell_type": "markdown",
   "id": "704d9161",
   "metadata": {},
   "source": [
    "Can you integrate this orbit in gala? Make plots of the orbit in (x,y)."
   ]
  },
  {
   "cell_type": "code",
   "execution_count": null,
   "id": "319e3d25",
   "metadata": {},
   "outputs": [],
   "source": []
  },
  {
   "cell_type": "markdown",
   "id": "a393a894",
   "metadata": {},
   "source": [
    "Calculate the total energy $E(t)$ of your orbit at each timestep at time $t$ and make a plot of the fractional drift in energy $(E(t)-E(0))/E(0)$ as a function $t$."
   ]
  },
  {
   "cell_type": "code",
   "execution_count": null,
   "id": "e72b569b",
   "metadata": {},
   "outputs": [],
   "source": []
  },
  {
   "cell_type": "code",
   "execution_count": null,
   "id": "80c46bfe",
   "metadata": {},
   "outputs": [],
   "source": []
  },
  {
   "cell_type": "markdown",
   "id": "8f16111f",
   "metadata": {},
   "source": [
    "Some things to try over the next week for the Hernquist potential:\n",
    "\n",
    "Analytically find algebraic expressions for \\  \n",
    "--- the radial acceleration at radius r:     $ a_r = - dΦ/dr $ \\\n",
    "--- velocity of a circular orbit at that radius using:    $a_r = - v_{\\rm circ}^2/r$ \\\n",
    "--- the azimuthal orbital time period for a circular orbit:    $T = 2\\pi r/ v_{\\rm circ}$\n",
    "\n",
    "Make plots $v_{\\rm circ}$ and $T$ vs $r$ using python. Think about what good units are to use and label your axes.\n",
    "\n",
    "Use these results to think about what initial conditions (x0,y0), (vx0,vy0)  you should choose to launch a circular orbit at any radius in your Hernquist potential. \n",
    "\n",
    "Numerically integrate your orbit using gala \\\n",
    "--- Plot your orbit in x-y: is it circular? \\\n",
    "--- Check your results against estimates for time periods above \\\n",
    "--- Check your orbit conserves energy \\\n",
    "--- See what happens when you lower/increase the timestep\n"
   ]
  },
  {
   "cell_type": "code",
   "execution_count": null,
   "id": "1a6bc938",
   "metadata": {},
   "outputs": [],
   "source": []
  }
 ],
 "metadata": {
  "kernelspec": {
   "display_name": "Python 3 (ipykernel)",
   "language": "python",
   "name": "python3"
  },
  "language_info": {
   "codemirror_mode": {
    "name": "ipython",
    "version": 3
   },
   "file_extension": ".py",
   "mimetype": "text/x-python",
   "name": "python",
   "nbconvert_exporter": "python",
   "pygments_lexer": "ipython3",
   "version": "3.9.12"
  }
 },
 "nbformat": 4,
 "nbformat_minor": 5
}
